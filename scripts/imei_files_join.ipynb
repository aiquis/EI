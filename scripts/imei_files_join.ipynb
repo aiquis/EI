{
 "cells": [
  {
   "cell_type": "markdown",
   "metadata": {},
   "source": [
    "# LG IMEIs files join\n",
    "\n",
    "Author: Aíquis Gomes (<aiquis.gomes@turner.com>)\n",
    "\n",
    "Date Created: 2017-06-10\n",
    "\n",
    "The script goal is to add all LG IMEI files send by them weekly in only one xlsx file to make it easy to upload to the system.\n",
    "\n",
    "The files they send weekly correspond to the devices production of the week  of devices that have access to the EI Plus promotion (3 months of free subscription)."
   ]
  },
  {
   "cell_type": "code",
   "execution_count": 43,
   "metadata": {
    "collapsed": false,
    "scrolled": false
   },
   "outputs": [],
   "source": [
    "import glob\n",
    "import pandas as pd\n",
    "\n",
    "path = r'/home/aiquis/EI/lg_imeis/' #files path\n",
    "\n",
    "#Create a list with all the path + files desired\n",
    "allFiles = glob.glob(path+\"*_26052017_*.xlsx\") #change the date here for the first date in the file names\n",
    "\n",
    "imeis = pd.DataFrame()\n",
    "aux_list = []\n",
    "\n",
    "#In this loop each file of allFiles is read and stored in a aux_list, generating a list of list, where each inside list\n",
    "#represents the content of each of the files read\n",
    "for file in allFiles:\n",
    "    fileread = pd.read_excel(file, index_col = None, header = 0)\n",
    "    aux_list.append(fileread)\n",
    "    \n",
    "#Concatenating the list of files to make a big list with all the records of all files and assigning it to the DataFrame\n",
    "imeis = pd.concat(aux_list)\n",
    "\n",
    "#Deleting the 'SHIPMENT' column that is useless to the system\n",
    "imeis.drop('SHIPEMENT', axis = 1, inplace = True)\n",
    "\n",
    "#Creating the spreadsheet that is going to be uploaded to the system\n",
    "writer = pd.ExcelWriter(path + 'imeis_upload.xlsx', engine = 'xlsxwriter')\n",
    "imeis.to_excel(writer, index = False)\n",
    "writer.save()"
   ]
  }
 ],
 "metadata": {
  "anaconda-cloud": {},
  "kernelspec": {
   "display_name": "Python [conda root]",
   "language": "python",
   "name": "conda-root-py"
  },
  "language_info": {
   "codemirror_mode": {
    "name": "ipython",
    "version": 3
   },
   "file_extension": ".py",
   "mimetype": "text/x-python",
   "name": "python",
   "nbconvert_exporter": "python",
   "pygments_lexer": "ipython3",
   "version": "3.5.2"
  }
 },
 "nbformat": 4,
 "nbformat_minor": 1
}
